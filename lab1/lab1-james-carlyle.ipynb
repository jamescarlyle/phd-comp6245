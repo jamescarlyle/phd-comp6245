{
 "cells": [
  {
   "cell_type": "code",
   "execution_count": 6,
   "id": "76d2753f-0931-4887-ad61-e4bf448900d0",
   "metadata": {},
   "outputs": [],
   "source": [
    "from sklearn . datasets import make_regression\n",
    "import numpy as np\n",
    "X, y = make_regression (n_samples=100, n_features=10, noise=10, random_state=42)"
   ]
  },
  {
   "cell_type": "code",
   "execution_count": 9,
   "id": "15e954b8-a2c0-412a-b936-536f4fa076b5",
   "metadata": {},
   "outputs": [
    {
     "data": {
      "text/plain": [
       "10"
      ]
     },
     "execution_count": 9,
     "metadata": {},
     "output_type": "execute_result"
    }
   ],
   "source": [
    "B = np.zeros((X.shape[1],1))"
   ]
  },
  {
   "cell_type": "code",
   "execution_count": 12,
   "id": "be0ce48b-b23b-45b5-b794-a77ed2dda086",
   "metadata": {},
   "outputs": [],
   "source": [
    "def ridge_gradient_descent(X, y, lambda_, alpha, iterations):\n",
    "    n, p = X.shape\n",
    "    # generage an vector of zeros of length number of features\n",
    "    B = np.zeros((X.shape[1],1))\n",
    "    # gradient descent loop\n",
    "    for _ in range(iterations):\n",
    "        grad = (X.T @ ((X @ B).reshape(y.shape) - y) + lambda_ * B)\n",
    "        B = B - alpha * grad\n",
    "    return B"
   ]
  },
  {
   "cell_type": "code",
   "execution_count": 14,
   "id": "2a09d266-ff72-431d-a3d0-571e835fb59b",
   "metadata": {},
   "outputs": [
    {
     "ename": "ValueError",
     "evalue": "cannot reshape array of size 1000 into shape (100,)",
     "output_type": "error",
     "traceback": [
      "\u001b[0;31m---------------------------------------------------------------------------\u001b[0m",
      "\u001b[0;31mValueError\u001b[0m                                Traceback (most recent call last)",
      "Cell \u001b[0;32mIn[14], line 10\u001b[0m\n\u001b[1;32m      8\u001b[0m I \u001b[38;5;241m=\u001b[39m np \u001b[38;5;241m.\u001b[39m eye ( d )\n\u001b[1;32m      9\u001b[0m ra \u001b[38;5;241m=\u001b[39m np \u001b[38;5;241m.\u001b[39m linalg \u001b[38;5;241m.\u001b[39m inv ( X \u001b[38;5;241m.\u001b[39m T \u001b[38;5;241m@\u001b[39m X \u001b[38;5;241m+\u001b[39m lambda_strength \u001b[38;5;241m*\u001b[39m I ) \u001b[38;5;241m@\u001b[39m X \u001b[38;5;241m.\u001b[39m T \u001b[38;5;241m@\u001b[39m y\n\u001b[0;32m---> 10\u001b[0m rgd \u001b[38;5;241m=\u001b[39m ridge_gradient_descent(X, y, lambda_strength, \u001b[38;5;241m0.1\u001b[39m, \u001b[38;5;241m100\u001b[39m)\n\u001b[1;32m     12\u001b[0m \u001b[38;5;28mprint\u001b[39m(rgd)\n",
      "Cell \u001b[0;32mIn[12], line 7\u001b[0m, in \u001b[0;36mridge_gradient_descent\u001b[0;34m(X, y, lambda_, alpha, iterations)\u001b[0m\n\u001b[1;32m      5\u001b[0m \u001b[38;5;66;03m# gradient descent loop\u001b[39;00m\n\u001b[1;32m      6\u001b[0m \u001b[38;5;28;01mfor\u001b[39;00m _ \u001b[38;5;129;01min\u001b[39;00m \u001b[38;5;28mrange\u001b[39m(iterations):\n\u001b[0;32m----> 7\u001b[0m     grad \u001b[38;5;241m=\u001b[39m (X\u001b[38;5;241m.\u001b[39mT \u001b[38;5;241m@\u001b[39m ((X \u001b[38;5;241m@\u001b[39m B)\u001b[38;5;241m.\u001b[39mreshape(y\u001b[38;5;241m.\u001b[39mshape) \u001b[38;5;241m-\u001b[39m y) \u001b[38;5;241m+\u001b[39m lambda_ \u001b[38;5;241m*\u001b[39m B)\n\u001b[1;32m      8\u001b[0m     B \u001b[38;5;241m=\u001b[39m B \u001b[38;5;241m-\u001b[39m alpha \u001b[38;5;241m*\u001b[39m grad\n\u001b[1;32m      9\u001b[0m \u001b[38;5;28;01mreturn\u001b[39;00m B\n",
      "\u001b[0;31mValueError\u001b[0m: cannot reshape array of size 1000 into shape (100,)"
     ]
    }
   ],
   "source": [
    "# Set regularization strength\n",
    "lambda_strength = 1.0\n",
    "\n",
    "# Get data dimensions\n",
    "n, d = X.shape\n",
    "\n",
    "# Implement the closed - form solution\n",
    "I = np . eye ( d )\n",
    "ra = np . linalg . inv ( X . T @ X + lambda_strength * I ) @ X . T @ y\n",
    "rgd = ridge_gradient_descent(X, y, lambda_strength, 0.1, 100)\n",
    "\n",
    "print(rgd)"
   ]
  },
  {
   "cell_type": "code",
   "execution_count": null,
   "id": "15a394a3-fe88-43ad-b381-c9fb8da9ac86",
   "metadata": {},
   "outputs": [],
   "source": []
  }
 ],
 "metadata": {
  "kernelspec": {
   "display_name": "Python [conda env:base] *",
   "language": "python",
   "name": "conda-base-py"
  },
  "language_info": {
   "codemirror_mode": {
    "name": "ipython",
    "version": 3
   },
   "file_extension": ".py",
   "mimetype": "text/x-python",
   "name": "python",
   "nbconvert_exporter": "python",
   "pygments_lexer": "ipython3",
   "version": "3.13.5"
  }
 },
 "nbformat": 4,
 "nbformat_minor": 5
}
