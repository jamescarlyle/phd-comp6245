{
 "cells": [
  {
   "cell_type": "code",
   "execution_count": 1,
   "id": "3be785a1-9b1f-4690-8788-79938a1adbd8",
   "metadata": {},
   "outputs": [
    {
     "ename": "ModuleNotFoundError",
     "evalue": "No module named 'sklearn'",
     "output_type": "error",
     "traceback": [
      "\u001b[0;31m---------------------------------------------------------------------------\u001b[0m",
      "\u001b[0;31mModuleNotFoundError\u001b[0m                       Traceback (most recent call last)",
      "Cell \u001b[0;32mIn[1], line 1\u001b[0m\n\u001b[0;32m----> 1\u001b[0m \u001b[38;5;28;01mfrom\u001b[39;00m \u001b[38;5;21;01msklearn\u001b[39;00m \u001b[38;5;241m.\u001b[39m datasets \u001b[38;5;28;01mimport\u001b[39;00m \u001b[38;5;21;01mmake_regression\u001b[39;00m\n\u001b[1;32m      2\u001b[0m \u001b[38;5;28;01mimport\u001b[39;00m \u001b[38;5;21;01mnumpy\u001b[39;00m \u001b[38;5;28;01mas\u001b[39;00m \u001b[38;5;21;01mnp\u001b[39;00m\n\u001b[1;32m      3\u001b[0m X , y \u001b[38;5;241m=\u001b[39m make_regression ( n_samples \u001b[38;5;241m=\u001b[39m\u001b[38;5;241m100\u001b[39m , n_features \u001b[38;5;241m=\u001b[39m\u001b[38;5;241m10\u001b[39m , noise \u001b[38;5;241m=\u001b[39m\u001b[38;5;241m10\u001b[39m , random_state\n\u001b[1;32m      4\u001b[0m \u001b[38;5;241m=\u001b[39m\u001b[38;5;241m42\u001b[39m)\n",
      "\u001b[0;31mModuleNotFoundError\u001b[0m: No module named 'sklearn'"
     ]
    }
   ],
   "source": [
    "from sklearn . datasets import make_regression\n",
    "import numpy as np\n",
    "X , y = make_regression ( n_samples =100 , n_features =10 , noise =10 , random_state\n",
    "=42)"
   ]
  },
  {
   "cell_type": "code",
   "execution_count": null,
   "id": "031de1dc-fac9-4238-b92a-1035a7e44c19",
   "metadata": {},
   "outputs": [],
   "source": []
  }
 ],
 "metadata": {
  "kernelspec": {
   "display_name": "Python 3 (ipykernel)",
   "language": "python",
   "name": "python3"
  },
  "language_info": {
   "codemirror_mode": {
    "name": "ipython",
    "version": 3
   },
   "file_extension": ".py",
   "mimetype": "text/x-python",
   "name": "python",
   "nbconvert_exporter": "python",
   "pygments_lexer": "ipython3",
   "version": "3.12.5"
  }
 },
 "nbformat": 4,
 "nbformat_minor": 5
}
